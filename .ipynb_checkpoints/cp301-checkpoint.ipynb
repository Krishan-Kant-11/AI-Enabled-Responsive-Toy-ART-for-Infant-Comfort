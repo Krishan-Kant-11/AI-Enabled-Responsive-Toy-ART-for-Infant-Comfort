{
 "cells": [
  {
   "cell_type": "markdown",
   "id": "5173acd9",
   "metadata": {},
   "source": [
    "# 1. Import depndencies "
   ]
  },
  {
   "cell_type": "code",
   "execution_count": 1,
   "id": "39321d4b",
   "metadata": {},
   "outputs": [],
   "source": [
    "import os\n",
    "from matplotlib import pyplot as plt\n",
    "import tensorflow as tf \n",
    "import tensorflow_io as tfio"
   ]
  },
  {
   "cell_type": "markdown",
   "id": "901a571f",
   "metadata": {},
   "source": [
    "# 2. Loading data"
   ]
  },
  {
   "cell_type": "code",
   "execution_count": 10,
   "id": "ca68b4f8",
   "metadata": {},
   "outputs": [],
   "source": [
    "# Here we are loding only one file for testing purpose\n",
    "\n",
    "CRY_FILE = os.path.join('data', 'cry', 'baby_cry (1).wav')\n",
    "NOT_CRY_FILE = os.path.join('data', 'not_cry', 'laugh (1).wav')"
   ]
  },
  {
   "cell_type": "code",
   "execution_count": 11,
   "id": "8d4d5267",
   "metadata": {},
   "outputs": [
    {
     "data": {
      "text/plain": [
       "'data\\\\cry\\\\baby_cry (1).wav'"
      ]
     },
     "execution_count": 11,
     "metadata": {},
     "output_type": "execute_result"
    }
   ],
   "source": [
    "CRY_FILE"
   ]
  },
  {
   "cell_type": "markdown",
   "id": "7e1a5faf",
   "metadata": {},
   "source": [
    "# 3. Data loading function"
   ]
  },
  {
   "cell_type": "code",
   "execution_count": null,
   "id": "e406b843",
   "metadata": {},
   "outputs": [],
   "source": []
  }
 ],
 "metadata": {
  "kernelspec": {
   "display_name": "Python 3 (ipykernel)",
   "language": "python",
   "name": "python3"
  },
  "language_info": {
   "codemirror_mode": {
    "name": "ipython",
    "version": 3
   },
   "file_extension": ".py",
   "mimetype": "text/x-python",
   "name": "python",
   "nbconvert_exporter": "python",
   "pygments_lexer": "ipython3",
   "version": "3.10.9"
  }
 },
 "nbformat": 4,
 "nbformat_minor": 5
}
